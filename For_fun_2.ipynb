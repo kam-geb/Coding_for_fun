{
 "cells": [
  {
   "cell_type": "code",
   "execution_count": 1,
   "metadata": {},
   "outputs": [],
   "source": [
    "import turtle"
   ]
  },
  {
   "cell_type": "code",
   "execution_count": 2,
   "metadata": {},
   "outputs": [],
   "source": [
    "t = turtle.Turtle()\n",
    "s = turtle.Screen()\n",
    "s.bgcolor('black')\n",
    "t.speed(10)\n",
    "col = ['yellow', 'blue', 'white', 'green']\n",
    "c=0\n",
    "\n",
    "for i in range(50):\n",
    "    t.forward(i*10)\n",
    "    t.right(144)\n",
    "    t.color(col[c])\n",
    "    if c == 3:\n",
    "        c=0\n",
    "    else:\n",
    "        c+=1"
   ]
  },
  {
   "cell_type": "code",
   "execution_count": null,
   "metadata": {},
   "outputs": [],
   "source": []
  }
 ],
 "metadata": {
  "kernelspec": {
   "display_name": "Python 3",
   "language": "python",
   "name": "python3"
  },
  "language_info": {
   "codemirror_mode": {
    "name": "ipython",
    "version": 3
   },
   "file_extension": ".py",
   "mimetype": "text/x-python",
   "name": "python",
   "nbconvert_exporter": "python",
   "pygments_lexer": "ipython3",
   "version": "3.8.5"
  }
 },
 "nbformat": 4,
 "nbformat_minor": 4
}
