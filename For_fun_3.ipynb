{
 "cells": [
  {
   "cell_type": "code",
   "execution_count": 1,
   "metadata": {},
   "outputs": [],
   "source": [
    "import turtle\n",
    "import colorsys"
   ]
  },
  {
   "cell_type": "code",
   "execution_count": 2,
   "metadata": {},
   "outputs": [],
   "source": [
    "t = turtle.Turtle()\n",
    "s = turtle.Screen()\n",
    "s.bgcolor('black')\n",
    "t.speed(0)\n",
    "n = 150\n",
    "h = 0\n",
    "t.left(100)\n",
    "\n",
    "for i in range(360):\n",
    "    c = colorsys.hsv_to_rgb(h, 1, 0.8)\n",
    "    h+= 1/n\n",
    "    t.color(c)\n",
    "    t.left(144)\n",
    "    t.forward(i*5)"
   ]
  },
  {
   "cell_type": "code",
   "execution_count": null,
   "metadata": {},
   "outputs": [],
   "source": []
  }
 ],
 "metadata": {
  "kernelspec": {
   "display_name": "Python 3",
   "language": "python",
   "name": "python3"
  },
  "language_info": {
   "codemirror_mode": {
    "name": "ipython",
    "version": 3
   },
   "file_extension": ".py",
   "mimetype": "text/x-python",
   "name": "python",
   "nbconvert_exporter": "python",
   "pygments_lexer": "ipython3",
   "version": "3.8.5"
  }
 },
 "nbformat": 4,
 "nbformat_minor": 4
}
